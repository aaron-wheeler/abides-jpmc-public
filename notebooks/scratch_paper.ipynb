{
 "cells": [
  {
   "cell_type": "code",
   "execution_count": 10,
   "metadata": {},
   "outputs": [
    {
     "ename": "ImportError",
     "evalue": "cannot import name 'rmsc_test' from 'abides_markets.configs' (/home/varnergroup/anaconda3/envs/abides/lib/python3.9/site-packages/abides_markets-0.0.0-py3.9.egg/abides_markets/configs/__init__.py)",
     "output_type": "error",
     "traceback": [
      "\u001b[0;31m---------------------------------------------------------------------------\u001b[0m",
      "\u001b[0;31mImportError\u001b[0m                               Traceback (most recent call last)",
      "Cell \u001b[0;32mIn[10], line 7\u001b[0m\n\u001b[1;32m      5\u001b[0m \u001b[39mfrom\u001b[39;00m \u001b[39mabides_core\u001b[39;00m \u001b[39mimport\u001b[39;00m abides\n\u001b[1;32m      6\u001b[0m \u001b[39mfrom\u001b[39;00m \u001b[39mabides_core\u001b[39;00m\u001b[39m.\u001b[39;00m\u001b[39mutils\u001b[39;00m \u001b[39mimport\u001b[39;00m parse_logs_df, ns_date, str_to_ns, fmt_ts\n\u001b[0;32m----> 7\u001b[0m \u001b[39mfrom\u001b[39;00m \u001b[39mabides_markets\u001b[39;00m\u001b[39m.\u001b[39;00m\u001b[39mconfigs\u001b[39;00m \u001b[39mimport\u001b[39;00m rmsc_test\n",
      "\u001b[0;31mImportError\u001b[0m: cannot import name 'rmsc_test' from 'abides_markets.configs' (/home/varnergroup/anaconda3/envs/abides/lib/python3.9/site-packages/abides_markets-0.0.0-py3.9.egg/abides_markets/configs/__init__.py)"
     ]
    }
   ],
   "source": [
    "import numpy as np\n",
    "import pandas as pd\n",
    "from matplotlib import pyplot as plt\n",
    "\n",
    "from abides_core import abides\n",
    "from abides_core.utils import parse_logs_df, ns_date, str_to_ns, fmt_ts\n",
    "from abides_markets.configs import rmsc04\n",
    "# from abides_markets.configs import rmsc_test"
   ]
  },
  {
   "cell_type": "code",
   "execution_count": 3,
   "metadata": {},
   "outputs": [
    {
     "name": "stdout",
     "output_type": "stream",
     "text": [
      "/home/varnergroup/Documents/GitHub/abides-jpmc-public/notebooks\n"
     ]
    }
   ],
   "source": [
    "! pwd"
   ]
  },
  {
   "cell_type": "code",
   "execution_count": 11,
   "metadata": {},
   "outputs": [
    {
     "data": {
      "text/html": [
       "<div>\n",
       "<style scoped>\n",
       "    .dataframe tbody tr th:only-of-type {\n",
       "        vertical-align: middle;\n",
       "    }\n",
       "\n",
       "    .dataframe tbody tr th {\n",
       "        vertical-align: top;\n",
       "    }\n",
       "\n",
       "    .dataframe thead th {\n",
       "        text-align: right;\n",
       "    }\n",
       "</style>\n",
       "<table border=\"1\" class=\"dataframe\">\n",
       "  <thead>\n",
       "    <tr style=\"text-align: right;\">\n",
       "      <th></th>\n",
       "      <th>EventType</th>\n",
       "      <th>Event</th>\n",
       "    </tr>\n",
       "    <tr>\n",
       "      <th>EventTime</th>\n",
       "      <th></th>\n",
       "      <th></th>\n",
       "    </tr>\n",
       "  </thead>\n",
       "  <tbody>\n",
       "    <tr>\n",
       "      <th>0.000000e+00</th>\n",
       "      <td>AGENT_TYPE</td>\n",
       "      <td>ExchangeAgent</td>\n",
       "    </tr>\n",
       "    <tr>\n",
       "      <th>1.612483e+18</th>\n",
       "      <td>MarketClosePriceRequestMsg</td>\n",
       "      <td>MarketClosePriceRequestMsg(message_id=2873)</td>\n",
       "    </tr>\n",
       "    <tr>\n",
       "      <th>1.612483e+18</th>\n",
       "      <td>MarketHoursRequestMsg</td>\n",
       "      <td>MarketHoursRequestMsg(message_id=2874)</td>\n",
       "    </tr>\n",
       "    <tr>\n",
       "      <th>1.612483e+18</th>\n",
       "      <td>MarketClosePriceRequestMsg</td>\n",
       "      <td>MarketClosePriceRequestMsg(message_id=3175)</td>\n",
       "    </tr>\n",
       "    <tr>\n",
       "      <th>1.612483e+18</th>\n",
       "      <td>MarketHoursRequestMsg</td>\n",
       "      <td>MarketHoursRequestMsg(message_id=3176)</td>\n",
       "    </tr>\n",
       "    <tr>\n",
       "      <th>...</th>\n",
       "      <td>...</td>\n",
       "      <td>...</td>\n",
       "    </tr>\n",
       "    <tr>\n",
       "      <th>1.612519e+18</th>\n",
       "      <td>OrderExecutedMsg</td>\n",
       "      <td>{'agent_id': 1039, 'time_placed': '2021-02-05 ...</td>\n",
       "    </tr>\n",
       "    <tr>\n",
       "      <th>1.612519e+18</th>\n",
       "      <td>BEST_BID</td>\n",
       "      <td>ABM,99892,294</td>\n",
       "    </tr>\n",
       "    <tr>\n",
       "      <th>1.612519e+18</th>\n",
       "      <td>BEST_ASK</td>\n",
       "      <td>ABM,99895,11</td>\n",
       "    </tr>\n",
       "    <tr>\n",
       "      <th>1.612519e+18</th>\n",
       "      <td>LAST_TRADE</td>\n",
       "      <td>100,$99894.0000</td>\n",
       "    </tr>\n",
       "    <tr>\n",
       "      <th>1.612519e+18</th>\n",
       "      <td>QuerySpreadMsg</td>\n",
       "      <td>QuerySpreadMsg(message_id=22033, symbol='ABM',...</td>\n",
       "    </tr>\n",
       "  </tbody>\n",
       "</table>\n",
       "<p>19966 rows × 2 columns</p>\n",
       "</div>"
      ],
      "text/plain": [
       "                               EventType  \\\n",
       "EventTime                                  \n",
       "0.000000e+00                  AGENT_TYPE   \n",
       "1.612483e+18  MarketClosePriceRequestMsg   \n",
       "1.612483e+18       MarketHoursRequestMsg   \n",
       "1.612483e+18  MarketClosePriceRequestMsg   \n",
       "1.612483e+18       MarketHoursRequestMsg   \n",
       "...                                  ...   \n",
       "1.612519e+18            OrderExecutedMsg   \n",
       "1.612519e+18                    BEST_BID   \n",
       "1.612519e+18                    BEST_ASK   \n",
       "1.612519e+18                  LAST_TRADE   \n",
       "1.612519e+18              QuerySpreadMsg   \n",
       "\n",
       "                                                          Event  \n",
       "EventTime                                                        \n",
       "0.000000e+00                                      ExchangeAgent  \n",
       "1.612483e+18        MarketClosePriceRequestMsg(message_id=2873)  \n",
       "1.612483e+18             MarketHoursRequestMsg(message_id=2874)  \n",
       "1.612483e+18        MarketClosePriceRequestMsg(message_id=3175)  \n",
       "1.612483e+18             MarketHoursRequestMsg(message_id=3176)  \n",
       "...                                                         ...  \n",
       "1.612519e+18  {'agent_id': 1039, 'time_placed': '2021-02-05 ...  \n",
       "1.612519e+18                                      ABM,99892,294  \n",
       "1.612519e+18                                       ABM,99895,11  \n",
       "1.612519e+18                                    100,$99894.0000  \n",
       "1.612519e+18  QuerySpreadMsg(message_id=22033, symbol='ABM',...  \n",
       "\n",
       "[19966 rows x 2 columns]"
      ]
     },
     "execution_count": 11,
     "metadata": {},
     "output_type": "execute_result"
    }
   ],
   "source": [
    "root_path = \"/home/varnergroup/Documents/GitHub/abides-jpmc-public/\"\n",
    "relative_path = \"log/1687465677/EXCHANGE_AGENT.bz2\"\n",
    "log_path = \"%s%s\" %(root_path, relative_path)\n",
    "unpickled_df = pd.read_pickle(log_path)\n",
    "unpickled_df"
   ]
  },
  {
   "cell_type": "code",
   "execution_count": 14,
   "metadata": {},
   "outputs": [
    {
     "data": {
      "text/plain": [
       "Index        159728\n",
       "EventType    159728\n",
       "Event        159728\n",
       "dtype: int64"
      ]
     },
     "execution_count": 14,
     "metadata": {},
     "output_type": "execute_result"
    }
   ],
   "source": [
    "unpickled_df.memory_usage()\n",
    "# config = rmsc04.build_config()"
   ]
  },
  {
   "cell_type": "code",
   "execution_count": null,
   "metadata": {},
   "outputs": [],
   "source": []
  },
  {
   "cell_type": "code",
   "execution_count": null,
   "metadata": {},
   "outputs": [],
   "source": []
  }
 ],
 "metadata": {
  "kernelspec": {
   "display_name": "abides",
   "language": "python",
   "name": "python3"
  },
  "language_info": {
   "codemirror_mode": {
    "name": "ipython",
    "version": 3
   },
   "file_extension": ".py",
   "mimetype": "text/x-python",
   "name": "python",
   "nbconvert_exporter": "python",
   "pygments_lexer": "ipython3",
   "version": "3.9.16"
  },
  "orig_nbformat": 4
 },
 "nbformat": 4,
 "nbformat_minor": 2
}
